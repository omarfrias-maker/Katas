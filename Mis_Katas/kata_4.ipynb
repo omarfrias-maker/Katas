{
 "cells": [
  {
   "cell_type": "code",
   "execution_count": null,
   "metadata": {},
   "outputs": [],
   "source": [
    "# Añade el código necesario\n",
    "# Define las palabras pista: average, temperature y distance suenan bien\n",
    "# Ciclo for para recorrer la cadena\n",
    "# Ciclo para cambiar C a Celsius\n",
    "text = \"\"\"Interesting facts about the Moon. The Moon is Earth's only satellite. There are several interesting facts about the Moon and how it affects life here on Earth. \n",
    "On average, the Moon moves 4cm away from the Earth every year. This yearly drift is not significant enough to cause immediate effects on Earth. The highest daylight temperature of the Moon is 127 C.\"\"\".replace('C', 'Celsius')\n",
    "sentences = text.split('.')\n",
    "print(text)\n",
    "print(sentences)\n",
    "for sentence in sentences:\n",
    "  print(sentence)\n"
   ]
  },
  {
   "cell_type": "code",
   "execution_count": 9,
   "metadata": {},
   "outputs": [
    {
     "name": "stdout",
     "output_type": "stream",
     "text": [
      "-------------------------------------------------------------------------------- \n",
      "name: Moon \n",
      "Gravity in Moon: 1.6199999999999999 m/s2 \n",
      "\n",
      "-------------------------------------------------------------------------------- \n",
      "name: Moon \n",
      "Gravity in Moon: 1.6199999999999999 m/s2 \n",
      "\n",
      "Marte\n"
     ]
    }
   ],
   "source": [
    "# Datos con los que vas a trabajar\n",
    "name = \"Moon\"\n",
    "gravity = 0.00162 # in kms\n",
    "planet = \"Earth\"\n",
    "title = f'datos de gravedad sobre {name}'\n",
    "fact = f\"\"\"{'-'*80} \n",
    "name: {\"Moon\"} \n",
    "Gravity in {name}: {gravity * 1000} m/s2 \n",
    "\"\"\"\n",
    "# Unión de ambas cadenas\n",
    "template = f\"\"\"{title.title()} \n",
    "{fact} \n",
    "\"\"\" \n",
    "print(fact)\n",
    "\n",
    "new_template = \"Marte\"\n",
    "planet = \"Mars \"\n",
    "gravity  = 0.00143\n",
    "name = \"Ganímedes\"\n",
    "print(fact)\n",
    "print(new_template.format(name=name, planet=planet, gravity=gravity+1000))"
   ]
  }
 ],
 "metadata": {
  "interpreter": {
   "hash": "aee8b7b246df8f9039afb4144a1f6fd8d2ca17a180786b69acc140d282b71a49"
  },
  "kernelspec": {
   "display_name": "Python 3.9.10 64-bit",
   "language": "python",
   "name": "python3"
  },
  "language_info": {
   "codemirror_mode": {
    "name": "ipython",
    "version": 3
   },
   "file_extension": ".py",
   "mimetype": "text/x-python",
   "name": "python",
   "nbconvert_exporter": "python",
   "pygments_lexer": "ipython3",
   "version": "3.9.10"
  },
  "orig_nbformat": 4
 },
 "nbformat": 4,
 "nbformat_minor": 2
}
